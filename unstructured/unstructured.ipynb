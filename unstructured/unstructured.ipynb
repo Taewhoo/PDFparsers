{
 "cells": [
  {
   "cell_type": "code",
   "execution_count": 51,
   "metadata": {},
   "outputs": [],
   "source": [
    "!pip install -q langchain unstructured[all-docs] pydantic lxml langchainhub"
   ]
  },
  {
   "cell_type": "code",
   "execution_count": 52,
   "metadata": {},
   "outputs": [
    {
     "name": "stdout",
     "output_type": "stream",
     "text": [
      "^C\n",
      "\u001b[34m==>\u001b[0m \u001b[1mDownloading https://formulae.brew.sh/api/formula.jws.json\u001b[0m\n",
      "######################################################################### 100.0%\n",
      "\u001b[34m==>\u001b[0m \u001b[1mDownloading https://formulae.brew.sh/api/cask.jws.json\u001b[0m\n",
      "######################################################################### 100.0%\n",
      "\u001b[33mWarning:\u001b[0m poppler 23.10.0 is already installed and up-to-date.\n",
      "To reinstall 23.10.0, run:\n",
      "  brew reinstall poppler\n"
     ]
    }
   ],
   "source": [
    "!brew install tesseract # OCR\n",
    "!brew install poppler # pdf rendering, processing"
   ]
  },
  {
   "cell_type": "markdown",
   "metadata": {},
   "source": [
    "Step-Up To Medicine 5th 2019.pdf"
   ]
  },
  {
   "cell_type": "code",
   "execution_count": null,
   "metadata": {},
   "outputs": [],
   "source": [
    "from pydantic import BaseModel\n",
    "from unstructured.partition.pdf import partition_pdf\n",
    "\n",
    "raw_pdf_elements = partition_pdf(\n",
    "  filename='./textbooks/Step-Up To Medicine 5th 2019.pdf',\n",
    "  extract_images_in_pdf=False, # save detected images?\n",
    "  infer_table_structure=True, # add field 'text_as_html' to preserve row/cell info\n",
    "  chunking_strategy='by_title', # use title elements for chunking\n",
    "  max_characters=4000, # chunk if length of element reaches 4000\n",
    "  new_after_n_chars=3800,\n",
    "  combine_text_under_n_chars=2000,\n",
    "  image_output_dir_path='.'\n",
    ")"
   ]
  },
  {
   "cell_type": "code",
   "execution_count": null,
   "metadata": {},
   "outputs": [
    {
     "data": {
      "text/plain": [
       "{\"<class 'unstructured.documents.elements.CompositeElement'>\": 682,\n",
       " \"<class 'unstructured.documents.elements.Table'>\": 56}"
      ]
     },
     "execution_count": 44,
     "metadata": {},
     "output_type": "execute_result"
    }
   ],
   "source": [
    "category_counts = {}\n",
    "\n",
    "for element in raw_pdf_elements:\n",
    "  category = str(type(element))\n",
    "  if category in category_counts:\n",
    "    category_counts[category] += 1\n",
    "  else:\n",
    "    category_counts[category] = 1\n",
    "  \n",
    "unique_categories = set(category_counts.keys())\n",
    "category_counts"
   ]
  },
  {
   "cell_type": "code",
   "execution_count": 16,
   "metadata": {},
   "outputs": [],
   "source": [
    "from typing import Any\n",
    "\n",
    "class Element(BaseModel):\n",
    "  type: str\n",
    "  text: Any"
   ]
  },
  {
   "cell_type": "code",
   "execution_count": 45,
   "metadata": {},
   "outputs": [],
   "source": [
    "categorized_elements = []\n",
    "for element in raw_pdf_elements:\n",
    "  if element.category == \"CompositeElement\":\n",
    "    categorized_elements.append(Element(type=\"text\", text=str(element)))\n",
    "  elif element.category == \"Table\":\n",
    "    categorized_elements.append(Element(type=\"table\", text=element.metadata.text_as_html))\n",
    "\n",
    "table_elements = [e for e in categorized_elements if e.type == \"table\"]\n",
    "text_elements = [e for e in categorized_elements if e.type == \"text\"]"
   ]
  },
  {
   "cell_type": "code",
   "execution_count": 46,
   "metadata": {},
   "outputs": [
    {
     "name": "stdout",
     "output_type": "stream",
     "text": [
      "56\n",
      "682\n"
     ]
    }
   ],
   "source": [
    "import json\n",
    "\n",
    "tables = [e.text for e in table_elements]\n",
    "text = [e.text for e in text_elements]\n",
    "\n",
    "print(len(tables))\n",
    "print(len(text))"
   ]
  },
  {
   "cell_type": "code",
   "execution_count": 47,
   "metadata": {},
   "outputs": [],
   "source": [
    "with open('text_medicine.txt', 'w') as wf:\n",
    "  wf.write('\\n======================================\\n'.join(text))\n",
    "\n",
    "with open('tables_medicine.txt', 'w') as wf:\n",
    "  wf.write('\\n======================================\\n'.join(tables))"
   ]
  },
  {
   "cell_type": "markdown",
   "metadata": {},
   "source": [
    "Dr. Husain A Sattar - Pathoma_ Fundamentals of Pathology by medpox.com.pdf"
   ]
  },
  {
   "cell_type": "code",
   "execution_count": 10,
   "metadata": {},
   "outputs": [
    {
     "name": "stderr",
     "output_type": "stream",
     "text": [
      "Some weights of the model checkpoint at microsoft/table-transformer-structure-recognition were not used when initializing TableTransformerForObjectDetection: ['model.backbone.conv_encoder.model.layer4.0.downsample.1.num_batches_tracked', 'model.backbone.conv_encoder.model.layer3.0.downsample.1.num_batches_tracked', 'model.backbone.conv_encoder.model.layer2.0.downsample.1.num_batches_tracked']\n",
      "- This IS expected if you are initializing TableTransformerForObjectDetection from the checkpoint of a model trained on another task or with another architecture (e.g. initializing a BertForSequenceClassification model from a BertForPreTraining model).\n",
      "- This IS NOT expected if you are initializing TableTransformerForObjectDetection from the checkpoint of a model that you expect to be exactly identical (initializing a BertForSequenceClassification model from a BertForSequenceClassification model).\n"
     ]
    }
   ],
   "source": [
    "from pydantic import BaseModel\n",
    "from unstructured.partition.pdf import partition_pdf\n",
    "\n",
    "raw_pdf_elements_husain = partition_pdf(\n",
    "  filename='./textbooks/Dr. Husain A Sattar - Pathoma_ Fundamentals of Pathology by medpox.com.pdf',\n",
    "  extract_images_in_pdf=False, # save detected images?\n",
    "  infer_table_structure=True, # add field 'text_as_html' to preserve row/cell info\n",
    "  chunking_strategy='by_title', # use title elements for chunking\n",
    "  max_characters=4000, # chunk if length of element reaches 4000\n",
    "  new_after_n_chars=3800,\n",
    "  combine_text_under_n_chars=2000,\n",
    "  image_output_dir_path='.'\n",
    ")"
   ]
  },
  {
   "cell_type": "code",
   "execution_count": 33,
   "metadata": {},
   "outputs": [
    {
     "data": {
      "text/plain": [
       "{\"<class 'unstructured.documents.elements.CompositeElement'>\": 209,\n",
       " \"<class 'unstructured.documents.elements.Table'>\": 20}"
      ]
     },
     "execution_count": 33,
     "metadata": {},
     "output_type": "execute_result"
    }
   ],
   "source": [
    "category_counts = {}\n",
    "\n",
    "for element in raw_pdf_elements_husain:\n",
    "  category = str(type(element))\n",
    "  if category in category_counts:\n",
    "    category_counts[category] += 1\n",
    "  else:\n",
    "    category_counts[category] = 1\n",
    "  \n",
    "unique_categories = set(category_counts.keys())\n",
    "category_counts"
   ]
  },
  {
   "cell_type": "code",
   "execution_count": 34,
   "metadata": {},
   "outputs": [],
   "source": [
    "categorized_elements = []\n",
    "for element in raw_pdf_elements_husain:\n",
    "  if element.category == \"CompositeElement\":\n",
    "    categorized_elements.append(Element(type=\"text\", text=str(element)))\n",
    "  elif element.category == \"Table\":\n",
    "    categorized_elements.append(Element(type=\"table\", text=element.metadata.text_as_html))\n",
    "\n",
    "table_elements = [e for e in categorized_elements if e.type == \"table\"]\n",
    "text_elements = [e for e in categorized_elements if e.type == \"text\"]"
   ]
  },
  {
   "cell_type": "code",
   "execution_count": 35,
   "metadata": {},
   "outputs": [
    {
     "name": "stdout",
     "output_type": "stream",
     "text": [
      "20\n",
      "209\n"
     ]
    }
   ],
   "source": [
    "import json\n",
    "\n",
    "tables = [e.text for e in table_elements]\n",
    "text = [e.text for e in text_elements]\n",
    "\n",
    "print(len(tables))\n",
    "print(len(text))"
   ]
  },
  {
   "cell_type": "code",
   "execution_count": 36,
   "metadata": {},
   "outputs": [],
   "source": [
    "with open('text_husain.txt', 'w') as wf:\n",
    "  wf.write('\\n======================================\\n'.join(text))\n",
    "\n",
    "with open('tables_husain.txt', 'w') as wf:\n",
    "  wf.write('\\n======================================\\n'.join(tables))"
   ]
  },
  {
   "cell_type": "markdown",
   "metadata": {},
   "source": [
    "First_Aid_for_the_USMLE_Step_1_2023_33e.pdf (parsing error)"
   ]
  },
  {
   "cell_type": "markdown",
   "metadata": {},
   "source": [
    "First Aid for the USMLE Step 2 CK, Eleventh Edition.pdf"
   ]
  },
  {
   "cell_type": "code",
   "execution_count": 38,
   "metadata": {},
   "outputs": [],
   "source": [
    "from unstructured.partition.pdf import partition_pdf\n",
    "\n",
    "raw_pdf_elements_firstaid2 = partition_pdf(\n",
    "  filename='./textbooks/First Aid for the USMLE Step 2 CK, Eleventh Edition.pdf',\n",
    "  extract_images_in_pdf=False, # save detected images?\n",
    "  infer_table_structure=True, # add field 'text_as_html' to preserve row/cell info\n",
    "  chunking_strategy='by_title', # use title elements for chunking\n",
    "  max_characters=4000, # chunk if length of element reaches 4000\n",
    "  new_after_n_chars=3800,\n",
    "  combine_text_under_n_chars=2000,\n",
    "  image_output_dir_path='.'\n",
    ")"
   ]
  },
  {
   "cell_type": "code",
   "execution_count": 39,
   "metadata": {},
   "outputs": [
    {
     "data": {
      "text/plain": [
       "{\"<class 'unstructured.documents.elements.CompositeElement'>\": 941,\n",
       " \"<class 'unstructured.documents.elements.Table'>\": 49}"
      ]
     },
     "execution_count": 39,
     "metadata": {},
     "output_type": "execute_result"
    }
   ],
   "source": [
    "category_counts = {}\n",
    "\n",
    "for element in raw_pdf_elements_firstaid2:\n",
    "  category = str(type(element))\n",
    "  if category in category_counts:\n",
    "    category_counts[category] += 1\n",
    "  else:\n",
    "    category_counts[category] = 1\n",
    "  \n",
    "unique_categories = set(category_counts.keys())\n",
    "category_counts"
   ]
  },
  {
   "cell_type": "code",
   "execution_count": 40,
   "metadata": {},
   "outputs": [],
   "source": [
    "categorized_elements = []\n",
    "for element in raw_pdf_elements_firstaid2:\n",
    "  if element.category == \"CompositeElement\":\n",
    "    categorized_elements.append(Element(type=\"text\", text=str(element)))\n",
    "  elif element.category == \"Table\":\n",
    "    categorized_elements.append(Element(type=\"table\", text=element.metadata.text_as_html))\n",
    "\n",
    "table_elements = [e for e in categorized_elements if e.type == \"table\"]\n",
    "text_elements = [e for e in categorized_elements if e.type == \"text\"]"
   ]
  },
  {
   "cell_type": "code",
   "execution_count": 41,
   "metadata": {},
   "outputs": [
    {
     "name": "stdout",
     "output_type": "stream",
     "text": [
      "49\n",
      "941\n"
     ]
    }
   ],
   "source": [
    "import json\n",
    "\n",
    "tables = [e.text for e in table_elements]\n",
    "text = [e.text for e in text_elements]\n",
    "\n",
    "print(len(tables))\n",
    "print(len(text))"
   ]
  },
  {
   "cell_type": "code",
   "execution_count": 42,
   "metadata": {},
   "outputs": [],
   "source": [
    "with open('text_firstaid2.txt', 'w') as wf:\n",
    "  wf.write('\\n======================================\\n'.join(text))\n",
    "\n",
    "with open('tables_firstaid2.txt', 'w') as wf:\n",
    "  wf.write('\\n======================================\\n'.join(tables))"
   ]
  },
  {
   "cell_type": "markdown",
   "metadata": {},
   "source": [
    "First Aid for the USMLE Step 3.pdf (parsing error)"
   ]
  }
 ],
 "metadata": {
  "kernelspec": {
   "display_name": "biogpt",
   "language": "python",
   "name": "python3"
  },
  "language_info": {
   "codemirror_mode": {
    "name": "ipython",
    "version": 3
   },
   "file_extension": ".py",
   "mimetype": "text/x-python",
   "name": "python",
   "nbconvert_exporter": "python",
   "pygments_lexer": "ipython3",
   "version": "3.9.18"
  },
  "orig_nbformat": 4
 },
 "nbformat": 4,
 "nbformat_minor": 2
}
